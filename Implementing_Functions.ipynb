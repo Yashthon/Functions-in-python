{
  "nbformat": 4,
  "nbformat_minor": 0,
  "metadata": {
    "colab": {
      "name": "Implementing Functions.ipynb",
      "provenance": [],
      "collapsed_sections": [],
      "authorship_tag": "ABX9TyMsl71ufWCbtao72C3XTosr",
      "include_colab_link": true
    },
    "kernelspec": {
      "name": "python3",
      "display_name": "Python 3"
    },
    "language_info": {
      "name": "python"
    }
  },
  "cells": [
    {
      "cell_type": "markdown",
      "metadata": {
        "id": "view-in-github",
        "colab_type": "text"
      },
      "source": [
        "<a href=\"https://colab.research.google.com/github/Yashthon/Functions-in-python/blob/main/Implementing_Functions.ipynb\" target=\"_parent\"><img src=\"https://colab.research.google.com/assets/colab-badge.svg\" alt=\"Open In Colab\"/></a>"
      ]
    },
    {
      "cell_type": "markdown",
      "source": [
        "`Execute following code and write your observations`"
      ],
      "metadata": {
        "id": "N1UKMHMBgqfo"
      }
    },
    {
      "cell_type": "code",
      "execution_count": null,
      "metadata": {
        "colab": {
          "base_uri": "https://localhost:8080/"
        },
        "id": "ieST4StFfoxE",
        "outputId": "02eb4c0c-3f79-444f-dcee-446557672544"
      },
      "outputs": [
        {
          "output_type": "stream",
          "name": "stdout",
          "text": [
            "Enter a number 5\n",
            "The number is  5\n",
            "<class 'int'>\n",
            "11 22 23 24 25\n",
            "11@22@23@24@25$\n",
            "The value of num1 is 15 and num2 is 20\n",
            "M.Sc CS has AI and Lab on Python  courses\n",
            "M.Sc CS has Lab on Python and AI courses\n",
            "Good Afternoon Everyone!! Welcome to Lab on Python course\n"
          ]
        }
      ],
      "source": [
        "# Getting input from the user\n",
        "number=int(input(\"Enter a number \"))# Taking input from the user int the form of integer.\n",
        "print(\"The number is \",number) # the inputed value is getting printed\n",
        "print(type(number)) # printing the dta type of the input value\n",
        " \n",
        "print(11,22,23,24,25) # printing numbers\n",
        "print(11,22,23,24,25,sep='@', end='$') # seperating the numbers wwith @ and ath the end putting $ sign\n",
        "print() # for ging in next line\n",
        "num1=15;num2=20 # storing numbers  in variables\n",
        "print('The value of num1 is {} and num2 is {}'.format(num1,num2)) # printing variables \n",
        "print('M.Sc CS has {0} and {1}  courses'.format('AI','Lab on Python'))  # printing strored vales using indexing\n",
        "print('M.Sc CS has {1} and {0} courses'.format('AI','Lab on Python')) # printing strored vales using indexing\n",
        " \n",
        "print('Good Afternoon {ack}!! {msg}'.format(msg = 'Welcome to Lab on Python course', \n",
        "ack = 'Everyone')) # values are stored in the variables and printed using .format method\n"
      ]
    },
    {
      "cell_type": "code",
      "source": [
        "#Functions\n",
        "#simple function is created and called outside of the function\n",
        "def hello():\n",
        "    print(\"Hello everyone\")\n",
        " \n",
        "hello()"
      ],
      "metadata": {
        "colab": {
          "base_uri": "https://localhost:8080/"
        },
        "id": "O8eExc5piGjI",
        "outputId": "d466f49e-7f6c-4a5b-c4a7-33e542310b9a"
      },
      "execution_count": null,
      "outputs": [
        {
          "output_type": "stream",
          "name": "stdout",
          "text": [
            "Hello everyone\n"
          ]
        }
      ]
    },
    {
      "cell_type": "code",
      "source": [
        "#function with return\n",
        "def square(num):\n",
        "     return num*num\n",
        " \n",
        "print(square(5))\n",
        "# function is created and it prints square of the number"
      ],
      "metadata": {
        "colab": {
          "base_uri": "https://localhost:8080/"
        },
        "id": "w-N1Tkm2n-Oe",
        "outputId": "493764d9-f07f-4e57-ec74-c2eb9f64bfe8"
      },
      "execution_count": null,
      "outputs": [
        {
          "output_type": "stream",
          "name": "stdout",
          "text": [
            "25\n"
          ]
        }
      ]
    },
    {
      "cell_type": "code",
      "source": [
        "#function with default arguments\n",
        "def add(num1,num2=5): # here num2 has 5 stored in it explicitly\n",
        "    return num1 + num2\n",
        " \n",
        "print(add(10,20)) # normal addition is done\n",
        "print(add(6)) # here only 1 value was provided so it took 5 as the second operand as it was previously stored in num2"
      ],
      "metadata": {
        "colab": {
          "base_uri": "https://localhost:8080/"
        },
        "id": "YnhTYI--oFYN",
        "outputId": "40e6380e-32eb-4a1f-fb74-6762d7bd6aac"
      },
      "execution_count": null,
      "outputs": [
        {
          "output_type": "stream",
          "name": "stdout",
          "text": [
            "30\n",
            "11\n"
          ]
        }
      ]
    },
    {
      "cell_type": "code",
      "source": [
        "#in case you don't know the number of arguments passed\n",
        "def course(*coursenames):\n",
        "    print(\"I am studying\" + coursenames[1])\n",
        "course(\"AI\",\"Lab on Python\",\"Microservices\",\"Cloud Computing\")\n",
        "# Function is created and called outside of the function and using indexing it prints the desiredoutput"
      ],
      "metadata": {
        "colab": {
          "base_uri": "https://localhost:8080/"
        },
        "id": "x-jc40TLohP1",
        "outputId": "cbbd9720-487b-4ffd-f69e-65dc7f996e59"
      },
      "execution_count": null,
      "outputs": [
        {
          "output_type": "stream",
          "name": "stdout",
          "text": [
            "I am studyingLab on Python\n"
          ]
        }
      ]
    },
    {
      "cell_type": "code",
      "source": [
        "# key=value arguments\n",
        "def coursen(cn1,cn2,cn3):\n",
        "    print(\"I am studying \" + cn3)\n",
        "coursen(cn1=\"AI\",cn2=\"Lab on Python\",cn3=\"Microservices\")\n",
        "# here key value paires are checked and printed the desired output"
      ],
      "metadata": {
        "colab": {
          "base_uri": "https://localhost:8080/"
        },
        "id": "Mkb-pw68pC1x",
        "outputId": "91705ea2-88b3-4323-9a1f-e08416ece499"
      },
      "execution_count": null,
      "outputs": [
        {
          "output_type": "stream",
          "name": "stdout",
          "text": [
            "I am studying Microservices\n"
          ]
        }
      ]
    },
    {
      "cell_type": "markdown",
      "source": [
        "# 1. From Learn Python in 7 days book---page no. 142 to 160—read and solve all examples. Write your observations\n"
      ],
      "metadata": {
        "id": "rpj_UzOoppA5"
      }
    },
    {
      "cell_type": "code",
      "source": [
        "def helloWorld():\n",
        "  \"\"\" \n",
        "  This is Hello World Program \n",
        "  \"\"\"\n",
        "  # Multiline comment\n",
        "  print (\"You are in Hello World\") # print statement\n",
        "helloWorld() # function called"
      ],
      "metadata": {
        "colab": {
          "base_uri": "https://localhost:8080/"
        },
        "id": "LCGj2LPQpVii",
        "outputId": "28ac61e8-ea46-4c9a-d6b3-6974a470d4cd"
      },
      "execution_count": null,
      "outputs": [
        {
          "output_type": "stream",
          "name": "stdout",
          "text": [
            "You are in Hello World\n"
          ]
        }
      ]
    },
    {
      "cell_type": "code",
      "source": [
        "# Function with arguments\n",
        "def func(passArgument):\n",
        "  print (passArgument)\n",
        "str = (\"hello all\")\n",
        "func(str)"
      ],
      "metadata": {
        "colab": {
          "base_uri": "https://localhost:8080/"
        },
        "id": "Juj2SyhRrBue",
        "outputId": "e6984575-76a9-4343-9245-141b3a724573"
      },
      "execution_count": null,
      "outputs": [
        {
          "output_type": "stream",
          "name": "stdout",
          "text": [
            "hello all\n"
          ]
        }
      ]
    },
    {
      "cell_type": "code",
      "source": [
        "# Function with an argument and return type\n",
        "def sum(a, b):\n",
        "  c = a+b\n",
        "  return c\n",
        "x = 10\n",
        "y = 50\n",
        "print(\"Result of addition \", sum(x,y))"
      ],
      "metadata": {
        "colab": {
          "base_uri": "https://localhost:8080/"
        },
        "id": "hqASO89jr32n",
        "outputId": "92d3ce6e-c54b-4e36-93b4-6cfddb9234e9"
      },
      "execution_count": null,
      "outputs": [
        {
          "output_type": "stream",
          "name": "stdout",
          "text": [
            "Result of addition  60\n"
          ]
        }
      ]
    },
    {
      "cell_type": "code",
      "source": [
        "# Function with default argument\n",
        "def info(name, age=50):\n",
        "  print(\"Name\", name)\n",
        "  print(\"age\", age)\n",
        "info(\"John\", age=28)\n",
        "info(\"James\")"
      ],
      "metadata": {
        "colab": {
          "base_uri": "https://localhost:8080/"
        },
        "id": "YjX2A60PsJZJ",
        "outputId": "f4fbe26c-2394-4f9c-9da8-d68428574230"
      },
      "execution_count": null,
      "outputs": [
        {
          "output_type": "stream",
          "name": "stdout",
          "text": [
            "Name John\n",
            "age 28\n",
            "Name James\n",
            "age 50\n"
          ]
        }
      ]
    },
    {
      "cell_type": "code",
      "source": [
        "# Function with variable length argument\n",
        "def variable_argument( var1, *vari):\n",
        "  print(\"Out-put is\",var1)\n",
        "  for var in vari:\n",
        "    print(var)\n",
        "variable_argument(60)\n",
        "variable_argument(100,90,40,50,60)"
      ],
      "metadata": {
        "colab": {
          "base_uri": "https://localhost:8080/"
        },
        "id": "W78XPOrjsVe8",
        "outputId": "d3419eaa-cb32-4cd2-8228-a618b39b8991"
      },
      "execution_count": null,
      "outputs": [
        {
          "output_type": "stream",
          "name": "stdout",
          "text": [
            "Out-put is 60\n",
            "Out-put is 100\n",
            "90\n",
            "40\n",
            "50\n",
            "60\n"
          ]
        }
      ]
    },
    {
      "cell_type": "code",
      "source": [
        "# Key-value pair as variable length argument\n",
        "def infocity(**var):\n",
        "  print(var)\n",
        "  for key, value in var.items():\n",
        "    print(\"%s == %s\" %(key,value))\n",
        "infocity(name=\"l4w\", age = 20, city=\"Los Angeles\")\n",
        "infocity(name=\"John\",age=45, city=\"London\", sex=\"male\", medals=0)"
      ],
      "metadata": {
        "colab": {
          "base_uri": "https://localhost:8080/"
        },
        "id": "iW6_Ftcjsj_Z",
        "outputId": "933c0a45-fc20-41f8-e7ab-6c91d5348ec6"
      },
      "execution_count": null,
      "outputs": [
        {
          "output_type": "stream",
          "name": "stdout",
          "text": [
            "{'name': 'l4w', 'age': 20, 'city': 'Los Angeles'}\n",
            "name == l4w\n",
            "age == 20\n",
            "city == Los Angeles\n",
            "{'name': 'John', 'age': 45, 'city': 'London', 'sex': 'male', 'medals': 0}\n",
            "name == John\n",
            "age == 45\n",
            "city == London\n",
            "sex == male\n",
            "medals == 0\n"
          ]
        }
      ]
    },
    {
      "cell_type": "code",
      "source": [
        "# Pass by reference versus pass by value\n",
        "def pass_ref(list1):\n",
        "  list1.extend([23,89])\n",
        "  print(\"list inside the function: \",list1)\n",
        "list1 = [12,67,90]\n",
        "print(\"list before pass\", list1)\n",
        "pass_ref(list1)\n",
        "print(\"list outside the function\", list1)"
      ],
      "metadata": {
        "colab": {
          "base_uri": "https://localhost:8080/"
        },
        "id": "kIfNVQ1TtGz6",
        "outputId": "83b3433c-1000-4c88-8ced-e91f9eea9309"
      },
      "execution_count": null,
      "outputs": [
        {
          "output_type": "stream",
          "name": "stdout",
          "text": [
            "list before pass [12, 67, 90]\n",
            "list inside the function:  [12, 67, 90, 23, 89]\n",
            "list outside the function [12, 67, 90, 23, 89]\n"
          ]
        }
      ]
    },
    {
      "cell_type": "code",
      "source": [
        "def func(a):\n",
        "  a=a+4\n",
        "  print(\"Inside the function\", a)\n",
        "a= 10\n",
        "func(a)\n",
        "print(\"Outside the function\", a)"
      ],
      "metadata": {
        "colab": {
          "base_uri": "https://localhost:8080/"
        },
        "id": "9VLpXpHOtYp4",
        "outputId": "e731f4b7-270f-4504-e717-1bd489ce7dd0"
      },
      "execution_count": null,
      "outputs": [
        {
          "output_type": "stream",
          "name": "stdout",
          "text": [
            "Inside the function 14\n",
            "Outside the function 10\n"
          ]
        }
      ]
    },
    {
      "cell_type": "code",
      "source": [
        "# Scope of variables\n",
        "def func():\n",
        "  a =12\n",
        "print('''Inside the function the value of\n",
        "a is acting as local variable''', a)\n",
        "a= 10\n",
        "func()\n",
        "print('''Outside function the value of a is\n",
        "acting as global variable''',a)"
      ],
      "metadata": {
        "colab": {
          "base_uri": "https://localhost:8080/"
        },
        "id": "e5Rbt3sLtmRk",
        "outputId": "372236a2-619f-4133-f9ad-ef35cffe7d84"
      },
      "execution_count": null,
      "outputs": [
        {
          "output_type": "stream",
          "name": "stdout",
          "text": [
            "Inside the function the value of\n",
            "a is acting as local variable 10\n",
            "Outside function the value of a is\n",
            "acting as global variable 10\n"
          ]
        }
      ]
    },
    {
      "cell_type": "code",
      "source": [
        "def func():\n",
        "  a =12\n",
        "print(\"a inside the function is the local variable\",a)\n",
        "func()\n",
        "print(\"Trying to access the local variable outside the function.\",a)"
      ],
      "metadata": {
        "colab": {
          "base_uri": "https://localhost:8080/"
        },
        "id": "lbNr09AJtzMm",
        "outputId": "c85972cb-5bda-471f-9a36-9e85a9249158"
      },
      "execution_count": null,
      "outputs": [
        {
          "output_type": "stream",
          "name": "stdout",
          "text": [
            "a inside the function is the local variable 10\n",
            "Trying to access the local variable outside the function. 10\n"
          ]
        }
      ]
    },
    {
      "cell_type": "code",
      "source": [
        "def func():\n",
        "  global k\n",
        "  k=k+7\n",
        "  print(\"variable k is now global\",k)\n",
        "k=10\n",
        "func()\n",
        "print(\"Accessing the value of k outside the function\",k)"
      ],
      "metadata": {
        "colab": {
          "base_uri": "https://localhost:8080/"
        },
        "id": "bJxggTRWt7sb",
        "outputId": "dfdc2acb-994a-441e-f7ec-277156934b22"
      },
      "execution_count": null,
      "outputs": [
        {
          "output_type": "stream",
          "name": "stdout",
          "text": [
            "variable k is now global 17\n",
            "Accessing the value of k outside the function 17\n"
          ]
        }
      ]
    },
    {
      "cell_type": "code",
      "source": [
        "# Memory management\n",
        "k = 4\n",
        "def main():\n",
        "  list1 = []\n",
        "  def add():\n",
        "    for x in range(k):\n",
        "      list1.append(x)\n",
        "    print(list1)\n",
        "  add()\n",
        "main()"
      ],
      "metadata": {
        "colab": {
          "base_uri": "https://localhost:8080/"
        },
        "id": "n3Dty37NuOm_",
        "outputId": "d530e312-f984-4faa-ee6f-77ad66d12af0"
      },
      "execution_count": null,
      "outputs": [
        {
          "output_type": "stream",
          "name": "stdout",
          "text": [
            "[0, 1, 2, 3]\n"
          ]
        }
      ]
    },
    {
      "cell_type": "markdown",
      "source": [
        "# 2. From Think Python book----page no.17 to 26 solve examples. Also solve exercise 3.3, 3.4 and 3.5 including all sub exercises.\n"
      ],
      "metadata": {
        "id": "ej6blG5Yu1hu"
      }
    },
    {
      "cell_type": "code",
      "source": [
        "# 3.1 Function calls\n",
        "type(32)"
      ],
      "metadata": {
        "colab": {
          "base_uri": "https://localhost:8080/"
        },
        "id": "3QgqnqE_utsC",
        "outputId": "18f5f4cb-e643-4f90-992e-089a36c6dd24"
      },
      "execution_count": null,
      "outputs": [
        {
          "output_type": "execute_result",
          "data": {
            "text/plain": [
              "int"
            ]
          },
          "metadata": {},
          "execution_count": 19
        }
      ]
    },
    {
      "cell_type": "code",
      "source": [
        "# 3.2 Type conversion functions\n",
        "int('32')\n"
      ],
      "metadata": {
        "colab": {
          "base_uri": "https://localhost:8080/"
        },
        "id": "IuETgvPvvQwl",
        "outputId": "72f19e83-45c1-47df-ed5b-5fa26d8c9beb"
      },
      "execution_count": null,
      "outputs": [
        {
          "output_type": "execute_result",
          "data": {
            "text/plain": [
              "32"
            ]
          },
          "metadata": {},
          "execution_count": 20
        }
      ]
    },
    {
      "cell_type": "code",
      "source": [
        "int('hello')"
      ],
      "metadata": {
        "colab": {
          "base_uri": "https://localhost:8080/",
          "height": 165
        },
        "id": "C4mZscMXvVXm",
        "outputId": "44e5eefb-d9a3-4b4e-b195-0c94ad9da5de"
      },
      "execution_count": null,
      "outputs": [
        {
          "output_type": "error",
          "ename": "ValueError",
          "evalue": "ignored",
          "traceback": [
            "\u001b[0;31m---------------------------------------------------------------------------\u001b[0m",
            "\u001b[0;31mValueError\u001b[0m                                Traceback (most recent call last)",
            "\u001b[0;32m<ipython-input-21-1e0cfe654e81>\u001b[0m in \u001b[0;36m<module>\u001b[0;34m()\u001b[0m\n\u001b[0;32m----> 1\u001b[0;31m \u001b[0mint\u001b[0m\u001b[0;34m(\u001b[0m\u001b[0;34m'hello'\u001b[0m\u001b[0;34m)\u001b[0m\u001b[0;34m\u001b[0m\u001b[0;34m\u001b[0m\u001b[0m\n\u001b[0m",
            "\u001b[0;31mValueError\u001b[0m: invalid literal for int() with base 10: 'hello'"
          ]
        }
      ]
    },
    {
      "cell_type": "code",
      "source": [
        "int(3.99999)"
      ],
      "metadata": {
        "colab": {
          "base_uri": "https://localhost:8080/"
        },
        "id": "RPvvD7_-zEsQ",
        "outputId": "d3ef1ad5-7ded-4c7a-9675-9ee0c2431029"
      },
      "execution_count": null,
      "outputs": [
        {
          "output_type": "execute_result",
          "data": {
            "text/plain": [
              "3"
            ]
          },
          "metadata": {},
          "execution_count": 22
        }
      ]
    },
    {
      "cell_type": "code",
      "source": [
        "int(-2.3)"
      ],
      "metadata": {
        "colab": {
          "base_uri": "https://localhost:8080/"
        },
        "id": "dvxinuyEzN_A",
        "outputId": "e231e21a-4e47-485c-f71b-488ae2961513"
      },
      "execution_count": null,
      "outputs": [
        {
          "output_type": "execute_result",
          "data": {
            "text/plain": [
              "-2"
            ]
          },
          "metadata": {},
          "execution_count": 23
        }
      ]
    },
    {
      "cell_type": "code",
      "source": [
        "float(32)"
      ],
      "metadata": {
        "colab": {
          "base_uri": "https://localhost:8080/"
        },
        "id": "2yIHaDOfzQin",
        "outputId": "6e61db63-72d3-47db-ae64-340f847f1547"
      },
      "execution_count": null,
      "outputs": [
        {
          "output_type": "execute_result",
          "data": {
            "text/plain": [
              "32.0"
            ]
          },
          "metadata": {},
          "execution_count": 24
        }
      ]
    },
    {
      "cell_type": "code",
      "source": [
        "float('3.14597')"
      ],
      "metadata": {
        "colab": {
          "base_uri": "https://localhost:8080/"
        },
        "id": "IXp0p4sPzSsD",
        "outputId": "6a1cc741-5326-42b4-f569-75e1b40474f3"
      },
      "execution_count": null,
      "outputs": [
        {
          "output_type": "execute_result",
          "data": {
            "text/plain": [
              "3.14597"
            ]
          },
          "metadata": {},
          "execution_count": 25
        }
      ]
    },
    {
      "cell_type": "code",
      "source": [
        "# 3.3 Math functions\n",
        "import math\n",
        "print(math)\n"
      ],
      "metadata": {
        "colab": {
          "base_uri": "https://localhost:8080/"
        },
        "id": "1pXnS_usvZUW",
        "outputId": "ee7c976f-06b9-4fca-e21c-b68534a3f4ae"
      },
      "execution_count": null,
      "outputs": [
        {
          "output_type": "stream",
          "name": "stdout",
          "text": [
            "<module 'math' (built-in)>\n"
          ]
        }
      ]
    },
    {
      "cell_type": "code",
      "source": [
        "# 3.4 Composition\n",
        "degrees = 45\n",
        "x = math.sin(degrees / 360.0 * 2 * math.pi)\n",
        "print(x)"
      ],
      "metadata": {
        "colab": {
          "base_uri": "https://localhost:8080/"
        },
        "id": "f8ZVgdfCvjXt",
        "outputId": "156df764-f724-4e55-895a-f4cadbe7b1d3"
      },
      "execution_count": null,
      "outputs": [
        {
          "output_type": "stream",
          "name": "stdout",
          "text": [
            "0.7071067811865475\n"
          ]
        }
      ]
    },
    {
      "cell_type": "code",
      "source": [
        "y = math.exp(math.log(x+1))\n",
        "print(y)"
      ],
      "metadata": {
        "colab": {
          "base_uri": "https://localhost:8080/"
        },
        "id": "iiYPfZdbwTwY",
        "outputId": "58df162d-0b44-4066-9aa3-88f0f1fe878c"
      },
      "execution_count": null,
      "outputs": [
        {
          "output_type": "stream",
          "name": "stdout",
          "text": [
            "1.7071067811865475\n"
          ]
        }
      ]
    },
    {
      "cell_type": "code",
      "source": [
        "# 3.5 Adding new functions\n",
        "def print_lyrics():\n",
        "  print(\"I'm a lumberjack, and I'm okay.\")\n",
        "  print(\"I sleep all night and I work all day.\")"
      ],
      "metadata": {
        "id": "ER-hp-s4wbJI"
      },
      "execution_count": null,
      "outputs": []
    },
    {
      "cell_type": "code",
      "source": [
        "print(print_lyrics)\n"
      ],
      "metadata": {
        "colab": {
          "base_uri": "https://localhost:8080/"
        },
        "id": "gwCHo_18xCCU",
        "outputId": "62b64c26-ad1a-4662-83a3-a490555d29c9"
      },
      "execution_count": null,
      "outputs": [
        {
          "output_type": "stream",
          "name": "stdout",
          "text": [
            "<function print_lyrics at 0x7ffbb7b8a8c0>\n"
          ]
        }
      ]
    },
    {
      "cell_type": "code",
      "source": [
        "print(type(print_lyrics))"
      ],
      "metadata": {
        "colab": {
          "base_uri": "https://localhost:8080/"
        },
        "id": "vHCXHb5ex2zx",
        "outputId": "18cd0095-2dce-45a7-a5c8-0929f07e27fb"
      },
      "execution_count": null,
      "outputs": [
        {
          "output_type": "stream",
          "name": "stdout",
          "text": [
            "<class 'function'>\n"
          ]
        }
      ]
    },
    {
      "cell_type": "code",
      "source": [
        "print_lyrics()"
      ],
      "metadata": {
        "colab": {
          "base_uri": "https://localhost:8080/"
        },
        "id": "8pU4qrVYx7jP",
        "outputId": "54db04fb-b40e-40f7-d470-6a9c292283da"
      },
      "execution_count": null,
      "outputs": [
        {
          "output_type": "stream",
          "name": "stdout",
          "text": [
            "I'm a lumberjack, and I'm okay.\n",
            "I sleep all night and I work all day.\n"
          ]
        }
      ]
    },
    {
      "cell_type": "code",
      "source": [
        "def repeat_lyrics():\n",
        "  print_lyrics()\n",
        "  print_lyrics()"
      ],
      "metadata": {
        "id": "CP6k2VZ5yOT1"
      },
      "execution_count": null,
      "outputs": []
    },
    {
      "cell_type": "code",
      "source": [
        "repeat_lyrics()"
      ],
      "metadata": {
        "colab": {
          "base_uri": "https://localhost:8080/"
        },
        "id": "-g47CZj4yYdv",
        "outputId": "ec73a9a2-e6d4-4776-8e72-14864c1391e4"
      },
      "execution_count": null,
      "outputs": [
        {
          "output_type": "stream",
          "name": "stdout",
          "text": [
            "I'm a lumberjack, and I'm okay.\n",
            "I sleep all night and I work all day.\n",
            "I'm a lumberjack, and I'm okay.\n",
            "I sleep all night and I work all day.\n"
          ]
        }
      ]
    },
    {
      "cell_type": "markdown",
      "source": [
        "# 3. Write user defined function to display LCM of a given number\n"
      ],
      "metadata": {
        "id": "rNy6TSuWz8Sd"
      }
    },
    {
      "cell_type": "code",
      "source": [
        "def LCM(a,b):\n",
        "  if a > b:\n",
        "    greater = a\n",
        "  else:\n",
        "    greater = b\n",
        "  while(True):\n",
        "    if((greater % a == 0) and (greater % b == 0)):\n",
        "      lcm = greater\n",
        "      break\n",
        "    greater += 1\n",
        "  return lcm\n",
        "n1 = int(input(\"Enter first operand - \"))\n",
        "n2 = int(input(\"Enter second operand - \"))\n",
        "print(\"LCM of\", n1,\"and\",n2, \"is\",LCM(n1,n2))\n"
      ],
      "metadata": {
        "colab": {
          "base_uri": "https://localhost:8080/"
        },
        "id": "sH7OkhmK0BIq",
        "outputId": "43de4840-cf48-4b19-b822-d82b21d7ebec"
      },
      "execution_count": null,
      "outputs": [
        {
          "output_type": "stream",
          "name": "stdout",
          "text": [
            "Enter first operand - 3\n",
            "Enter second operand - 4\n",
            "LCM of 3 and 4 is 12\n"
          ]
        }
      ]
    },
    {
      "cell_type": "markdown",
      "source": [
        "# 4. Write user defined function to convert and display Decimal to Binary"
      ],
      "metadata": {
        "id": "1ulTeHau2zRp"
      }
    },
    {
      "cell_type": "code",
      "source": [
        "def DecimalToBinary(n):\n",
        "  return bin(n).replace(\"0b\",\"\")\n",
        "\n",
        "if __name__ == '__main__':\n",
        "  n = int(input(\"Enter number - \"))\n",
        "print(DecimalToBinary(n))\n"
      ],
      "metadata": {
        "colab": {
          "base_uri": "https://localhost:8080/"
        },
        "id": "2HkYn6N_1I51",
        "outputId": "6cbadaf1-2b1c-4d8f-a16b-ebe205b9835d"
      },
      "execution_count": null,
      "outputs": [
        {
          "output_type": "stream",
          "name": "stdout",
          "text": [
            "Enter number - 8\n",
            "1000\n"
          ]
        }
      ]
    },
    {
      "cell_type": "markdown",
      "source": [
        "# 5. Write user defined function to convert and display Binary to Decimal\n"
      ],
      "metadata": {
        "id": "NDxix5fV4XEb"
      }
    },
    {
      "cell_type": "code",
      "source": [
        "def DecimalToBinary(n):\n",
        "  return \"{0:b}\".format(int(n))\n",
        "\n",
        "if __name__ == '__main__':\n",
        "  n = int(input(\"Enter number - \"))\n",
        "print(DecimalToBinary(n))"
      ],
      "metadata": {
        "colab": {
          "base_uri": "https://localhost:8080/"
        },
        "id": "9vNstg4W4HMV",
        "outputId": "794c73fe-c861-4569-8ffc-8b2d0d5f626d"
      },
      "execution_count": null,
      "outputs": [
        {
          "output_type": "stream",
          "name": "stdout",
          "text": [
            "Enter number - 8\n",
            "1000\n"
          ]
        }
      ]
    },
    {
      "cell_type": "markdown",
      "source": [
        "# 5. Write user defined function to convert and display Binary to Decimal\n"
      ],
      "metadata": {
        "id": "dvyBXW-R6lK8"
      }
    },
    {
      "cell_type": "code",
      "source": [
        "def BinaryToDecimal(n):\n",
        "  return int(n,2)\n",
        "\n",
        "if __name__ == '__main__':\n",
        "  n = input(\"Enter binary number - \")\n",
        "  print(BinaryToDecimal(n))\n",
        "\n",
        "  "
      ],
      "metadata": {
        "colab": {
          "base_uri": "https://localhost:8080/"
        },
        "id": "Zbkcz_aT6XzA",
        "outputId": "4ef07b51-aba6-4057-ecaf-93c73cdf0c0f"
      },
      "execution_count": null,
      "outputs": [
        {
          "output_type": "stream",
          "name": "stdout",
          "text": [
            "Enter binary number - 1000\n",
            "8\n"
          ]
        }
      ]
    },
    {
      "cell_type": "markdown",
      "source": [
        "# 6. Write user defined function to convert and display Decimal to Octal"
      ],
      "metadata": {
        "id": "JlMrpyC07Oob"
      }
    },
    {
      "cell_type": "code",
      "source": [
        "def DecToOct(n):\n",
        "  OctNum = [0] * 100\n",
        "  i = 0\n",
        "  while (n != 0):\n",
        "    OctNum[i] = n % 8\n",
        "    n = int(n / 8)\n",
        "    i += 1\n",
        "\n",
        "  for j in range(i - 1, -1, -1):\n",
        "    print(OctNum[j], end = \"\")\n",
        "    \n",
        "n = int(input(\"Enter Number - \"))\n",
        "DecToOct(n)"
      ],
      "metadata": {
        "colab": {
          "base_uri": "https://localhost:8080/"
        },
        "id": "N1TK5BdG6Ppc",
        "outputId": "2c4f3107-4643-4886-864b-0ea3347d1440"
      },
      "execution_count": null,
      "outputs": [
        {
          "output_type": "stream",
          "name": "stdout",
          "text": [
            "Enter Number - 8\n",
            "10"
          ]
        }
      ]
    },
    {
      "cell_type": "markdown",
      "source": [
        "# 7. Write user defined function to convert and display Decimal to Hexadecimal\n"
      ],
      "metadata": {
        "id": "2_1RkOU79Xlr"
      }
    },
    {
      "cell_type": "code",
      "source": [
        "def DecimalHexa(n):\n",
        "    hexa = ['0'] * 100\n",
        "    i = 0\n",
        "    while(n != 0):\n",
        "\n",
        "        rem = 0\n",
        "        rem = n % 16\n",
        "\n",
        "        if(rem < 10): \n",
        "            hexa[i] = chr(rem + 48)\n",
        "            i = i + 1\n",
        "        else: \n",
        "            hexa[i] = chr(rem + 55)\n",
        "            i = i + 1\n",
        "        n = int(n / 16)\n",
        "\n",
        "    j = i - 1\n",
        "    while(j >= 0): \n",
        "        print((hexa[j]), end = ''); \n",
        "        j = j - 1\n",
        "num = int(input('Enter a decimal number: '))\n",
        "\n",
        "print('HexaDecimal value = ', end = '')\n",
        "DecimalHexa(num)"
      ],
      "metadata": {
        "colab": {
          "base_uri": "https://localhost:8080/"
        },
        "id": "-0O7QNyG86OC",
        "outputId": "7468b479-717b-43bc-cc5c-a716b0b28bdb"
      },
      "execution_count": null,
      "outputs": [
        {
          "output_type": "stream",
          "name": "stdout",
          "text": [
            "Enter a decimal number: 10\n",
            "HexaDecimal value = A"
          ]
        }
      ]
    },
    {
      "cell_type": "markdown",
      "source": [
        "# 8. Write user defined function to display factorial of a number"
      ],
      "metadata": {
        "id": "0KopxVz5_J2p"
      }
    },
    {
      "cell_type": "code",
      "source": [
        "def Fact(n):\n",
        "    a = 1\n",
        "    for i in range(1,n+1):\n",
        "        a = a*i\n",
        "    print('factorial of',n,'is:',a)\n",
        "\n",
        "n = int(input('Enter a number - '))\n",
        "Fact(n)"
      ],
      "metadata": {
        "colab": {
          "base_uri": "https://localhost:8080/"
        },
        "id": "pjM7QOxs_C9c",
        "outputId": "e9577817-d9c3-4fd1-b716-ccfa1b7dd1a8"
      },
      "execution_count": null,
      "outputs": [
        {
          "output_type": "stream",
          "name": "stdout",
          "text": [
            "Enter a number - 5\n",
            "factorial of 5 is: 120\n"
          ]
        }
      ]
    },
    {
      "cell_type": "markdown",
      "source": [
        "# 9. Write recursive function to display factorial of a number\n"
      ],
      "metadata": {
        "id": "PtNyoj_t_rDt"
      }
    },
    {
      "cell_type": "code",
      "source": [
        "def RecursiveFactorial(n):  \n",
        "   if n == 1:  \n",
        "       return n  \n",
        "   else:  \n",
        "       return n*RecursiveFactorial(n-1)  \n",
        "num = int(input(\"Enter a number - \"))  \n",
        "if num < 0:  \n",
        "   print(\"Sorry, factorial does not exist for negative numbers\")  \n",
        "elif num == 0:  \n",
        "   print(\"The factorial of 0 is 1\")  \n",
        "else:  \n",
        "   print(\"The factorial of\",num,\"is\",RecursiveFactorial(num))"
      ],
      "metadata": {
        "colab": {
          "base_uri": "https://localhost:8080/"
        },
        "id": "gaiNdrgB_lh3",
        "outputId": "d3fd3f19-4618-470d-e6f3-cef279d18ecc"
      },
      "execution_count": null,
      "outputs": [
        {
          "output_type": "stream",
          "name": "stdout",
          "text": [
            "Enter a number - 5\n",
            "The factorial of 5 is 120\n"
          ]
        }
      ]
    },
    {
      "cell_type": "markdown",
      "source": [
        "# 10. Write user defined function to implement bubble sort.\n"
      ],
      "metadata": {
        "id": "TbCcqfQbANdw"
      }
    },
    {
      "cell_type": "code",
      "source": [
        "def BubbleSort(arr):\n",
        "  n = len(arr)\n",
        "  for i in range(n-1):\n",
        "    for j in range(0, n-i-1):\n",
        "      if arr[j] > arr[j + 1]:\n",
        "        arr[j], arr[j + 1] = arr[j + 1], arr[j]\n",
        "        \n",
        "arr = [10,20,45,60,56,70]\n",
        "BubbleSort(arr)\n",
        "print(\"Sorted array is - \")\n",
        "for i in range(len(arr)):\n",
        "  print(\"%d\" % arr[i])\n"
      ],
      "metadata": {
        "colab": {
          "base_uri": "https://localhost:8080/"
        },
        "id": "6WI7-1I8AKQx",
        "outputId": "c1e8cd2c-f5b0-4260-9129-42606928478d"
      },
      "execution_count": null,
      "outputs": [
        {
          "output_type": "stream",
          "name": "stdout",
          "text": [
            "Sorted array is - \n",
            "10\n",
            "20\n",
            "45\n",
            "56\n",
            "60\n",
            "70\n"
          ]
        }
      ]
    },
    {
      "cell_type": "markdown",
      "source": [
        "# 11. Write user defined function to display palindrome of a number"
      ],
      "metadata": {
        "id": "2lkGTPN3DRna"
      }
    },
    {
      "cell_type": "code",
      "source": [
        "def Pal(n):\n",
        "\n",
        "    r = 0\n",
        "    while(n>0):\n",
        "        d = n%10\n",
        "        r = r*10+d\n",
        "        n = int(n/10)\n",
        "    return(r)\n",
        "num = int(input(\"Enter number - \"))\n",
        "r1 = Pal(num)\n",
        "if(r1==num):\n",
        "    print('Palindrome')\n",
        "else:\n",
        "    print(\"Not Palindrome\")"
      ],
      "metadata": {
        "colab": {
          "base_uri": "https://localhost:8080/"
        },
        "id": "Vaijn3yvCGiy",
        "outputId": "3424d339-8105-472b-f8b9-d92d2d246531"
      },
      "execution_count": null,
      "outputs": [
        {
          "output_type": "stream",
          "name": "stdout",
          "text": [
            "Enter number - 454\n",
            "Palindrome\n"
          ]
        }
      ]
    },
    {
      "cell_type": "markdown",
      "source": [
        "# 12. Write user defined function to display reverse of a number"
      ],
      "metadata": {
        "id": "OzvGrQg4DlPh"
      }
    },
    {
      "cell_type": "code",
      "source": [
        "def reverse(n):\n",
        "\n",
        "    r = 0\n",
        "    while(n>0):\n",
        "        d = n%10\n",
        "        r = r*10+d\n",
        "        n = int(n/10)\n",
        "    return(r)\n",
        "num = int(input(\"Enter number - \"))\n",
        "print('Reverse of',num,'is',reverse(num))"
      ],
      "metadata": {
        "colab": {
          "base_uri": "https://localhost:8080/"
        },
        "id": "XmEdIwEzDgQi",
        "outputId": "f4d058c1-1c85-4d24-c570-890575825f6a"
      },
      "execution_count": null,
      "outputs": [
        {
          "output_type": "stream",
          "name": "stdout",
          "text": [
            "Enter number - 456\n",
            "Reverse of 456 is 654\n"
          ]
        }
      ]
    },
    {
      "cell_type": "markdown",
      "source": [
        "# 13. Write function which can print a dictionary where the keys are numbers between 1 and 30 (both included) and the values are square of keys."
      ],
      "metadata": {
        "id": "7WihKlD1ECCQ"
      }
    },
    {
      "cell_type": "code",
      "source": [
        "def dic(d):\n",
        "  for x in range(1,31):\n",
        "    d[x]=x*2\n",
        "    print(d)\n",
        "dic(dict())"
      ],
      "metadata": {
        "colab": {
          "base_uri": "https://localhost:8080/"
        },
        "id": "9UgfULd8E-rk",
        "outputId": "e8765fc6-0277-461c-b343-29c38b0362df"
      },
      "execution_count": null,
      "outputs": [
        {
          "output_type": "stream",
          "name": "stdout",
          "text": [
            "{1: 2}\n",
            "{1: 2, 2: 4}\n",
            "{1: 2, 2: 4, 3: 6}\n",
            "{1: 2, 2: 4, 3: 6, 4: 8}\n",
            "{1: 2, 2: 4, 3: 6, 4: 8, 5: 10}\n",
            "{1: 2, 2: 4, 3: 6, 4: 8, 5: 10, 6: 12}\n",
            "{1: 2, 2: 4, 3: 6, 4: 8, 5: 10, 6: 12, 7: 14}\n",
            "{1: 2, 2: 4, 3: 6, 4: 8, 5: 10, 6: 12, 7: 14, 8: 16}\n",
            "{1: 2, 2: 4, 3: 6, 4: 8, 5: 10, 6: 12, 7: 14, 8: 16, 9: 18}\n",
            "{1: 2, 2: 4, 3: 6, 4: 8, 5: 10, 6: 12, 7: 14, 8: 16, 9: 18, 10: 20}\n",
            "{1: 2, 2: 4, 3: 6, 4: 8, 5: 10, 6: 12, 7: 14, 8: 16, 9: 18, 10: 20, 11: 22}\n",
            "{1: 2, 2: 4, 3: 6, 4: 8, 5: 10, 6: 12, 7: 14, 8: 16, 9: 18, 10: 20, 11: 22, 12: 24}\n",
            "{1: 2, 2: 4, 3: 6, 4: 8, 5: 10, 6: 12, 7: 14, 8: 16, 9: 18, 10: 20, 11: 22, 12: 24, 13: 26}\n",
            "{1: 2, 2: 4, 3: 6, 4: 8, 5: 10, 6: 12, 7: 14, 8: 16, 9: 18, 10: 20, 11: 22, 12: 24, 13: 26, 14: 28}\n",
            "{1: 2, 2: 4, 3: 6, 4: 8, 5: 10, 6: 12, 7: 14, 8: 16, 9: 18, 10: 20, 11: 22, 12: 24, 13: 26, 14: 28, 15: 30}\n",
            "{1: 2, 2: 4, 3: 6, 4: 8, 5: 10, 6: 12, 7: 14, 8: 16, 9: 18, 10: 20, 11: 22, 12: 24, 13: 26, 14: 28, 15: 30, 16: 32}\n",
            "{1: 2, 2: 4, 3: 6, 4: 8, 5: 10, 6: 12, 7: 14, 8: 16, 9: 18, 10: 20, 11: 22, 12: 24, 13: 26, 14: 28, 15: 30, 16: 32, 17: 34}\n",
            "{1: 2, 2: 4, 3: 6, 4: 8, 5: 10, 6: 12, 7: 14, 8: 16, 9: 18, 10: 20, 11: 22, 12: 24, 13: 26, 14: 28, 15: 30, 16: 32, 17: 34, 18: 36}\n",
            "{1: 2, 2: 4, 3: 6, 4: 8, 5: 10, 6: 12, 7: 14, 8: 16, 9: 18, 10: 20, 11: 22, 12: 24, 13: 26, 14: 28, 15: 30, 16: 32, 17: 34, 18: 36, 19: 38}\n",
            "{1: 2, 2: 4, 3: 6, 4: 8, 5: 10, 6: 12, 7: 14, 8: 16, 9: 18, 10: 20, 11: 22, 12: 24, 13: 26, 14: 28, 15: 30, 16: 32, 17: 34, 18: 36, 19: 38, 20: 40}\n",
            "{1: 2, 2: 4, 3: 6, 4: 8, 5: 10, 6: 12, 7: 14, 8: 16, 9: 18, 10: 20, 11: 22, 12: 24, 13: 26, 14: 28, 15: 30, 16: 32, 17: 34, 18: 36, 19: 38, 20: 40, 21: 42}\n",
            "{1: 2, 2: 4, 3: 6, 4: 8, 5: 10, 6: 12, 7: 14, 8: 16, 9: 18, 10: 20, 11: 22, 12: 24, 13: 26, 14: 28, 15: 30, 16: 32, 17: 34, 18: 36, 19: 38, 20: 40, 21: 42, 22: 44}\n",
            "{1: 2, 2: 4, 3: 6, 4: 8, 5: 10, 6: 12, 7: 14, 8: 16, 9: 18, 10: 20, 11: 22, 12: 24, 13: 26, 14: 28, 15: 30, 16: 32, 17: 34, 18: 36, 19: 38, 20: 40, 21: 42, 22: 44, 23: 46}\n",
            "{1: 2, 2: 4, 3: 6, 4: 8, 5: 10, 6: 12, 7: 14, 8: 16, 9: 18, 10: 20, 11: 22, 12: 24, 13: 26, 14: 28, 15: 30, 16: 32, 17: 34, 18: 36, 19: 38, 20: 40, 21: 42, 22: 44, 23: 46, 24: 48}\n",
            "{1: 2, 2: 4, 3: 6, 4: 8, 5: 10, 6: 12, 7: 14, 8: 16, 9: 18, 10: 20, 11: 22, 12: 24, 13: 26, 14: 28, 15: 30, 16: 32, 17: 34, 18: 36, 19: 38, 20: 40, 21: 42, 22: 44, 23: 46, 24: 48, 25: 50}\n",
            "{1: 2, 2: 4, 3: 6, 4: 8, 5: 10, 6: 12, 7: 14, 8: 16, 9: 18, 10: 20, 11: 22, 12: 24, 13: 26, 14: 28, 15: 30, 16: 32, 17: 34, 18: 36, 19: 38, 20: 40, 21: 42, 22: 44, 23: 46, 24: 48, 25: 50, 26: 52}\n",
            "{1: 2, 2: 4, 3: 6, 4: 8, 5: 10, 6: 12, 7: 14, 8: 16, 9: 18, 10: 20, 11: 22, 12: 24, 13: 26, 14: 28, 15: 30, 16: 32, 17: 34, 18: 36, 19: 38, 20: 40, 21: 42, 22: 44, 23: 46, 24: 48, 25: 50, 26: 52, 27: 54}\n",
            "{1: 2, 2: 4, 3: 6, 4: 8, 5: 10, 6: 12, 7: 14, 8: 16, 9: 18, 10: 20, 11: 22, 12: 24, 13: 26, 14: 28, 15: 30, 16: 32, 17: 34, 18: 36, 19: 38, 20: 40, 21: 42, 22: 44, 23: 46, 24: 48, 25: 50, 26: 52, 27: 54, 28: 56}\n",
            "{1: 2, 2: 4, 3: 6, 4: 8, 5: 10, 6: 12, 7: 14, 8: 16, 9: 18, 10: 20, 11: 22, 12: 24, 13: 26, 14: 28, 15: 30, 16: 32, 17: 34, 18: 36, 19: 38, 20: 40, 21: 42, 22: 44, 23: 46, 24: 48, 25: 50, 26: 52, 27: 54, 28: 56, 29: 58}\n",
            "{1: 2, 2: 4, 3: 6, 4: 8, 5: 10, 6: 12, 7: 14, 8: 16, 9: 18, 10: 20, 11: 22, 12: 24, 13: 26, 14: 28, 15: 30, 16: 32, 17: 34, 18: 36, 19: 38, 20: 40, 21: 42, 22: 44, 23: 46, 24: 48, 25: 50, 26: 52, 27: 54, 28: 56, 29: 58, 30: 60}\n"
          ]
        }
      ]
    },
    {
      "cell_type": "code",
      "source": [
        ""
      ],
      "metadata": {
        "id": "r3qwJJYMF-D1"
      },
      "execution_count": null,
      "outputs": []
    }
  ]
}